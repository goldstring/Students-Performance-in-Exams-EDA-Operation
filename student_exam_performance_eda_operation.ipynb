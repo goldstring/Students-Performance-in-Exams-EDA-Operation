{
 "cells": [
  {
   "cell_type": "code",
   "execution_count": 1,
   "id": "0d43fc57",
   "metadata": {
    "_cell_guid": "b1076dfc-b9ad-4769-8c92-a6c4dae69d19",
    "_uuid": "8f2839f25d086af736a60e9eeb907d3b93b6e0e5",
    "execution": {
     "iopub.execute_input": "2025-04-15T09:45:50.866799Z",
     "iopub.status.busy": "2025-04-15T09:45:50.866446Z",
     "iopub.status.idle": "2025-04-15T09:45:54.771196Z",
     "shell.execute_reply": "2025-04-15T09:45:54.770126Z"
    },
    "papermill": {
     "duration": 3.912648,
     "end_time": "2025-04-15T09:45:54.772730",
     "exception": false,
     "start_time": "2025-04-15T09:45:50.860082",
     "status": "completed"
    },
    "tags": []
   },
   "outputs": [
    {
     "name": "stdout",
     "output_type": "stream",
     "text": [
      "/kaggle/input/students-performance-in-exams/StudentsPerformance.csv\n"
     ]
    }
   ],
   "source": [
    "# This Python 3 environment comes with many helpful analytics libraries installed\n",
    "# It is defined by the kaggle/python Docker image: https://github.com/kaggle/docker-python\n",
    "# For example, here's several helpful packages to load\n",
    "\n",
    "import numpy as np # linear algebra\n",
    "import pandas as pd # data processing, CSV file I/O (e.g. pd.read_csv)\n",
    "import matplotlib.pyplot as plt\n",
    "import seaborn as sns\n",
    "import warnings\n",
    "warnings.filterwarnings('ignore')\n",
    "# Input data files are available in the read-only \"../input/\" directory\n",
    "# For example, running this (by clicking run or pressing Shift+Enter) will list all files under the input directory\n",
    "\n",
    "import os\n",
    "for dirname, _, filenames in os.walk('/kaggle/input'):\n",
    "    for filename in filenames:\n",
    "        print(os.path.join(dirname, filename))\n",
    "\n",
    "# You can write up to 20GB to the current directory (/kaggle/working/) that gets preserved as output when you create a version using \"Save & Run All\" \n",
    "# You can also write temporary files to /kaggle/temp/, but they won't be saved outside of the current session"
   ]
  },
  {
   "cell_type": "code",
   "execution_count": 2,
   "id": "9cfa4c17",
   "metadata": {
    "execution": {
     "iopub.execute_input": "2025-04-15T09:45:54.783495Z",
     "iopub.status.busy": "2025-04-15T09:45:54.782556Z",
     "iopub.status.idle": "2025-04-15T09:45:54.825859Z",
     "shell.execute_reply": "2025-04-15T09:45:54.825044Z"
    },
    "papermill": {
     "duration": 0.050114,
     "end_time": "2025-04-15T09:45:54.827441",
     "exception": false,
     "start_time": "2025-04-15T09:45:54.777327",
     "status": "completed"
    },
    "tags": []
   },
   "outputs": [
    {
     "data": {
      "text/html": [
       "<div>\n",
       "<style scoped>\n",
       "    .dataframe tbody tr th:only-of-type {\n",
       "        vertical-align: middle;\n",
       "    }\n",
       "\n",
       "    .dataframe tbody tr th {\n",
       "        vertical-align: top;\n",
       "    }\n",
       "\n",
       "    .dataframe thead th {\n",
       "        text-align: right;\n",
       "    }\n",
       "</style>\n",
       "<table border=\"1\" class=\"dataframe\">\n",
       "  <thead>\n",
       "    <tr style=\"text-align: right;\">\n",
       "      <th></th>\n",
       "      <th>gender</th>\n",
       "      <th>race/ethnicity</th>\n",
       "      <th>parental level of education</th>\n",
       "      <th>lunch</th>\n",
       "      <th>test preparation course</th>\n",
       "      <th>math score</th>\n",
       "      <th>reading score</th>\n",
       "      <th>writing score</th>\n",
       "    </tr>\n",
       "  </thead>\n",
       "  <tbody>\n",
       "    <tr>\n",
       "      <th>0</th>\n",
       "      <td>female</td>\n",
       "      <td>group B</td>\n",
       "      <td>bachelor's degree</td>\n",
       "      <td>standard</td>\n",
       "      <td>none</td>\n",
       "      <td>72</td>\n",
       "      <td>72</td>\n",
       "      <td>74</td>\n",
       "    </tr>\n",
       "    <tr>\n",
       "      <th>1</th>\n",
       "      <td>female</td>\n",
       "      <td>group C</td>\n",
       "      <td>some college</td>\n",
       "      <td>standard</td>\n",
       "      <td>completed</td>\n",
       "      <td>69</td>\n",
       "      <td>90</td>\n",
       "      <td>88</td>\n",
       "    </tr>\n",
       "    <tr>\n",
       "      <th>2</th>\n",
       "      <td>female</td>\n",
       "      <td>group B</td>\n",
       "      <td>master's degree</td>\n",
       "      <td>standard</td>\n",
       "      <td>none</td>\n",
       "      <td>90</td>\n",
       "      <td>95</td>\n",
       "      <td>93</td>\n",
       "    </tr>\n",
       "    <tr>\n",
       "      <th>3</th>\n",
       "      <td>male</td>\n",
       "      <td>group A</td>\n",
       "      <td>associate's degree</td>\n",
       "      <td>free/reduced</td>\n",
       "      <td>none</td>\n",
       "      <td>47</td>\n",
       "      <td>57</td>\n",
       "      <td>44</td>\n",
       "    </tr>\n",
       "    <tr>\n",
       "      <th>4</th>\n",
       "      <td>male</td>\n",
       "      <td>group C</td>\n",
       "      <td>some college</td>\n",
       "      <td>standard</td>\n",
       "      <td>none</td>\n",
       "      <td>76</td>\n",
       "      <td>78</td>\n",
       "      <td>75</td>\n",
       "    </tr>\n",
       "  </tbody>\n",
       "</table>\n",
       "</div>"
      ],
      "text/plain": [
       "   gender race/ethnicity parental level of education         lunch  \\\n",
       "0  female        group B           bachelor's degree      standard   \n",
       "1  female        group C                some college      standard   \n",
       "2  female        group B             master's degree      standard   \n",
       "3    male        group A          associate's degree  free/reduced   \n",
       "4    male        group C                some college      standard   \n",
       "\n",
       "  test preparation course  math score  reading score  writing score  \n",
       "0                    none          72             72             74  \n",
       "1               completed          69             90             88  \n",
       "2                    none          90             95             93  \n",
       "3                    none          47             57             44  \n",
       "4                    none          76             78             75  "
      ]
     },
     "execution_count": 2,
     "metadata": {},
     "output_type": "execute_result"
    }
   ],
   "source": [
    "df=pd.read_csv('/kaggle/input/students-performance-in-exams/StudentsPerformance.csv')\n",
    "df.head()"
   ]
  },
  {
   "cell_type": "code",
   "execution_count": 3,
   "id": "bcfe3e99",
   "metadata": {
    "execution": {
     "iopub.execute_input": "2025-04-15T09:45:54.838067Z",
     "iopub.status.busy": "2025-04-15T09:45:54.837246Z",
     "iopub.status.idle": "2025-04-15T09:45:54.842900Z",
     "shell.execute_reply": "2025-04-15T09:45:54.842043Z"
    },
    "papermill": {
     "duration": 0.012262,
     "end_time": "2025-04-15T09:45:54.844357",
     "exception": false,
     "start_time": "2025-04-15T09:45:54.832095",
     "status": "completed"
    },
    "tags": []
   },
   "outputs": [
    {
     "data": {
      "text/plain": [
       "(1000, 8)"
      ]
     },
     "execution_count": 3,
     "metadata": {},
     "output_type": "execute_result"
    }
   ],
   "source": [
    "df.shape"
   ]
  },
  {
   "cell_type": "code",
   "execution_count": 4,
   "id": "115b9249",
   "metadata": {
    "execution": {
     "iopub.execute_input": "2025-04-15T09:45:54.854913Z",
     "iopub.status.busy": "2025-04-15T09:45:54.854285Z",
     "iopub.status.idle": "2025-04-15T09:45:54.879321Z",
     "shell.execute_reply": "2025-04-15T09:45:54.878285Z"
    },
    "papermill": {
     "duration": 0.031972,
     "end_time": "2025-04-15T09:45:54.880995",
     "exception": false,
     "start_time": "2025-04-15T09:45:54.849023",
     "status": "completed"
    },
    "tags": []
   },
   "outputs": [
    {
     "name": "stdout",
     "output_type": "stream",
     "text": [
      "<class 'pandas.core.frame.DataFrame'>\n",
      "RangeIndex: 1000 entries, 0 to 999\n",
      "Data columns (total 8 columns):\n",
      " #   Column                       Non-Null Count  Dtype \n",
      "---  ------                       --------------  ----- \n",
      " 0   gender                       1000 non-null   object\n",
      " 1   race/ethnicity               1000 non-null   object\n",
      " 2   parental level of education  1000 non-null   object\n",
      " 3   lunch                        1000 non-null   object\n",
      " 4   test preparation course      1000 non-null   object\n",
      " 5   math score                   1000 non-null   int64 \n",
      " 6   reading score                1000 non-null   int64 \n",
      " 7   writing score                1000 non-null   int64 \n",
      "dtypes: int64(3), object(5)\n",
      "memory usage: 62.6+ KB\n"
     ]
    }
   ],
   "source": [
    "df.info()"
   ]
  },
  {
   "cell_type": "code",
   "execution_count": 5,
   "id": "240b59dc",
   "metadata": {
    "execution": {
     "iopub.execute_input": "2025-04-15T09:45:54.891481Z",
     "iopub.status.busy": "2025-04-15T09:45:54.891207Z",
     "iopub.status.idle": "2025-04-15T09:45:54.911754Z",
     "shell.execute_reply": "2025-04-15T09:45:54.911017Z"
    },
    "papermill": {
     "duration": 0.027658,
     "end_time": "2025-04-15T09:45:54.913373",
     "exception": false,
     "start_time": "2025-04-15T09:45:54.885715",
     "status": "completed"
    },
    "tags": []
   },
   "outputs": [
    {
     "data": {
      "text/html": [
       "<div>\n",
       "<style scoped>\n",
       "    .dataframe tbody tr th:only-of-type {\n",
       "        vertical-align: middle;\n",
       "    }\n",
       "\n",
       "    .dataframe tbody tr th {\n",
       "        vertical-align: top;\n",
       "    }\n",
       "\n",
       "    .dataframe thead th {\n",
       "        text-align: right;\n",
       "    }\n",
       "</style>\n",
       "<table border=\"1\" class=\"dataframe\">\n",
       "  <thead>\n",
       "    <tr style=\"text-align: right;\">\n",
       "      <th></th>\n",
       "      <th>math score</th>\n",
       "      <th>reading score</th>\n",
       "      <th>writing score</th>\n",
       "    </tr>\n",
       "  </thead>\n",
       "  <tbody>\n",
       "    <tr>\n",
       "      <th>count</th>\n",
       "      <td>1000.00000</td>\n",
       "      <td>1000.000000</td>\n",
       "      <td>1000.000000</td>\n",
       "    </tr>\n",
       "    <tr>\n",
       "      <th>mean</th>\n",
       "      <td>66.08900</td>\n",
       "      <td>69.169000</td>\n",
       "      <td>68.054000</td>\n",
       "    </tr>\n",
       "    <tr>\n",
       "      <th>std</th>\n",
       "      <td>15.16308</td>\n",
       "      <td>14.600192</td>\n",
       "      <td>15.195657</td>\n",
       "    </tr>\n",
       "    <tr>\n",
       "      <th>min</th>\n",
       "      <td>0.00000</td>\n",
       "      <td>17.000000</td>\n",
       "      <td>10.000000</td>\n",
       "    </tr>\n",
       "    <tr>\n",
       "      <th>25%</th>\n",
       "      <td>57.00000</td>\n",
       "      <td>59.000000</td>\n",
       "      <td>57.750000</td>\n",
       "    </tr>\n",
       "    <tr>\n",
       "      <th>50%</th>\n",
       "      <td>66.00000</td>\n",
       "      <td>70.000000</td>\n",
       "      <td>69.000000</td>\n",
       "    </tr>\n",
       "    <tr>\n",
       "      <th>75%</th>\n",
       "      <td>77.00000</td>\n",
       "      <td>79.000000</td>\n",
       "      <td>79.000000</td>\n",
       "    </tr>\n",
       "    <tr>\n",
       "      <th>max</th>\n",
       "      <td>100.00000</td>\n",
       "      <td>100.000000</td>\n",
       "      <td>100.000000</td>\n",
       "    </tr>\n",
       "  </tbody>\n",
       "</table>\n",
       "</div>"
      ],
      "text/plain": [
       "       math score  reading score  writing score\n",
       "count  1000.00000    1000.000000    1000.000000\n",
       "mean     66.08900      69.169000      68.054000\n",
       "std      15.16308      14.600192      15.195657\n",
       "min       0.00000      17.000000      10.000000\n",
       "25%      57.00000      59.000000      57.750000\n",
       "50%      66.00000      70.000000      69.000000\n",
       "75%      77.00000      79.000000      79.000000\n",
       "max     100.00000     100.000000     100.000000"
      ]
     },
     "execution_count": 5,
     "metadata": {},
     "output_type": "execute_result"
    }
   ],
   "source": [
    "df.describe()"
   ]
  },
  {
   "cell_type": "code",
   "execution_count": 6,
   "id": "e0501eec",
   "metadata": {
    "execution": {
     "iopub.execute_input": "2025-04-15T09:45:54.925994Z",
     "iopub.status.busy": "2025-04-15T09:45:54.924934Z",
     "iopub.status.idle": "2025-04-15T09:45:56.031486Z",
     "shell.execute_reply": "2025-04-15T09:45:56.030499Z"
    },
    "papermill": {
     "duration": 1.114536,
     "end_time": "2025-04-15T09:45:56.033603",
     "exception": false,
     "start_time": "2025-04-15T09:45:54.919067",
     "status": "completed"
    },
    "tags": []
   },
   "outputs": [
    {
     "data": {
      "image/png": "[encoded data removed]",
      "text/plain": [
       "<Figure size 500x300 with 1 Axes>"
      ]
     },
     "metadata": {},
     "output_type": "display_data"
    },
    {
     "data": {
      "image/png": "[encoded data removed]",
      "text/plain": [
       "<Figure size 500x300 with 1 Axes>"
      ]
     },
     "metadata": {},
     "output_type": "display_data"
    },
    {
     "data": {
      "image/png": "[encoded data removed]",
      "text/plain": [
       "<Figure size 500x300 with 1 Axes>"
      ]
     },
     "metadata": {},
     "output_type": "display_data"
    },
    {
     "data": {
      "image/png": "[encoded data removed]",
      "text/plain": [
       "<Figure size 500x300 with 1 Axes>"
      ]
     },
     "metadata": {},
     "output_type": "display_data"
    },
    {
     "data": {
      "image/png": "[encoded data removed]",
      "text/plain": [
       "<Figure size 500x300 with 1 Axes>"
      ]
     },
     "metadata": {},
     "output_type": "display_data"
    }
   ],
   "source": [
    "# Set modern style\n",
    "sns.set(style=\"whitegrid\", palette=\"Set2\")\n",
    "\n",
    "# Loop through object-type columns\n",
    "for col in df.select_dtypes(include='object').columns:\n",
    "    plt.figure(figsize=(5, 3))\n",
    "    \n",
    "    # Count plot\n",
    "    ax = sns.countplot(data=df, x=col, order=df[col].value_counts().index)\n",
    "    plt.title(f'Bar Plot of {col}', fontsize=14)\n",
    "    plt.xlabel(col, fontsize=12)\n",
    "    plt.ylabel('Count', fontsize=12)\n",
    "    \n",
    "    # Rotate x-axis labels if needed\n",
    "    plt.xticks(rotation=45)\n",
    "\n",
    "    # Add value labels\n",
    "    for p in ax.patches:\n",
    "        value = int(p.get_height())\n",
    "        ax.annotate(f'{value}', \n",
    "                    (p.get_x() + p.get_width() / 2., value),\n",
    "                    ha='center', va='bottom', fontsize=10)\n",
    "    \n",
    "    plt.tight_layout()\n",
    "    plt.show()"
   ]
  },
  {
   "cell_type": "code",
   "execution_count": 7,
   "id": "0d361065",
   "metadata": {
    "execution": {
     "iopub.execute_input": "2025-04-15T09:45:56.050413Z",
     "iopub.status.busy": "2025-04-15T09:45:56.049553Z",
     "iopub.status.idle": "2025-04-15T09:45:56.478439Z",
     "shell.execute_reply": "2025-04-15T09:45:56.477517Z"
    },
    "papermill": {
     "duration": 0.438577,
     "end_time": "2025-04-15T09:45:56.479954",
     "exception": false,
     "start_time": "2025-04-15T09:45:56.041377",
     "status": "completed"
    },
    "tags": []
   },
   "outputs": [
    {
     "data": {
      "image/png": "[encoded data removed]",
      "text/plain": [
       "<Figure size 500x300 with 1 Axes>"
      ]
     },
     "metadata": {},
     "output_type": "display_data"
    },
    {
     "data": {
      "image/png": "[encoded data removed]",
      "text/plain": [
       "<Figure size 500x300 with 1 Axes>"
      ]
     },
     "metadata": {},
     "output_type": "display_data"
    },
    {
     "data": {
      "image/png": "[encoded data removed]",
      "text/plain": [
       "<Figure size 500x300 with 1 Axes>"
      ]
     },
     "metadata": {},
     "output_type": "display_data"
    }
   ],
   "source": [
    "for col in df.select_dtypes(include=['float64','int64']).columns:\n",
    "    plt.figure(figsize=(5,3))\n",
    "    sns.boxplot(data=df, y=col)\n",
    "    plt.title(f'Box Plot of {col}')\n",
    "    plt.tight_layout()\n",
    "    plt.show()"
   ]
  },
  {
   "cell_type": "code",
   "execution_count": 8,
   "id": "14dc71f1",
   "metadata": {
    "execution": {
     "iopub.execute_input": "2025-04-15T09:45:56.497801Z",
     "iopub.status.busy": "2025-04-15T09:45:56.497464Z",
     "iopub.status.idle": "2025-04-15T09:45:56.507750Z",
     "shell.execute_reply": "2025-04-15T09:45:56.506779Z"
    },
    "papermill": {
     "duration": 0.020835,
     "end_time": "2025-04-15T09:45:56.509164",
     "exception": false,
     "start_time": "2025-04-15T09:45:56.488329",
     "status": "completed"
    },
    "tags": []
   },
   "outputs": [
    {
     "name": "stdout",
     "output_type": "stream",
     "text": [
      "math score\n",
      "(4, 8)\n",
      "----------------------------------------\n",
      "reading score\n",
      "(1, 8)\n",
      "----------------------------------------\n",
      "writing score\n",
      "(3, 8)\n",
      "----------------------------------------\n"
     ]
    }
   ],
   "source": [
    "for col in df.select_dtypes(include=['float64','int64']).columns:\n",
    "    print(col)\n",
    "    print(df[df[col]<20].shape)\n",
    "    print('--'*20)"
   ]
  },
  {
   "cell_type": "code",
   "execution_count": 9,
   "id": "22ee960d",
   "metadata": {
    "execution": {
     "iopub.execute_input": "2025-04-15T09:45:56.526838Z",
     "iopub.status.busy": "2025-04-15T09:45:56.526453Z",
     "iopub.status.idle": "2025-04-15T09:45:56.532606Z",
     "shell.execute_reply": "2025-04-15T09:45:56.531617Z"
    },
    "papermill": {
     "duration": 0.016646,
     "end_time": "2025-04-15T09:45:56.534091",
     "exception": false,
     "start_time": "2025-04-15T09:45:56.517445",
     "status": "completed"
    },
    "tags": []
   },
   "outputs": [
    {
     "data": {
      "text/plain": [
       "(1000, 8)"
      ]
     },
     "execution_count": 9,
     "metadata": {},
     "output_type": "execute_result"
    }
   ],
   "source": [
    "df.shape"
   ]
  },
  {
   "cell_type": "code",
   "execution_count": 10,
   "id": "a5d20604",
   "metadata": {
    "execution": {
     "iopub.execute_input": "2025-04-15T09:45:56.551812Z",
     "iopub.status.busy": "2025-04-15T09:45:56.551516Z",
     "iopub.status.idle": "2025-04-15T09:45:56.559693Z",
     "shell.execute_reply": "2025-04-15T09:45:56.559015Z"
    },
    "papermill": {
     "duration": 0.018826,
     "end_time": "2025-04-15T09:45:56.561222",
     "exception": false,
     "start_time": "2025-04-15T09:45:56.542396",
     "status": "completed"
    },
    "tags": []
   },
   "outputs": [
    {
     "data": {
      "text/plain": [
       "(994, 8)"
      ]
     },
     "execution_count": 10,
     "metadata": {},
     "output_type": "execute_result"
    }
   ],
   "source": [
    "df[(df['math score'] > 20) & (df['reading score'] > 20) & (df['writing score'] > 20)].shape\n"
   ]
  },
  {
   "cell_type": "code",
   "execution_count": 11,
   "id": "2e8fdd18",
   "metadata": {
    "execution": {
     "iopub.execute_input": "2025-04-15T09:45:56.579831Z",
     "iopub.status.busy": "2025-04-15T09:45:56.579464Z",
     "iopub.status.idle": "2025-04-15T09:45:56.995154Z",
     "shell.execute_reply": "2025-04-15T09:45:56.994250Z"
    },
    "papermill": {
     "duration": 0.426493,
     "end_time": "2025-04-15T09:45:56.996838",
     "exception": false,
     "start_time": "2025-04-15T09:45:56.570345",
     "status": "completed"
    },
    "tags": []
   },
   "outputs": [
    {
     "data": {
      "image/png": "[encoded data removed]",
      "text/plain": [
       "<Figure size 500x300 with 1 Axes>"
      ]
     },
     "metadata": {},
     "output_type": "display_data"
    },
    {
     "data": {
      "image/png": "[encoded data removed]",
      "text/plain": [
       "<Figure size 500x300 with 1 Axes>"
      ]
     },
     "metadata": {},
     "output_type": "display_data"
    },
    {
     "data": {
      "image/png": "[encoded data removed]",
      "text/plain": [
       "<Figure size 500x300 with 1 Axes>"
      ]
     },
     "metadata": {},
     "output_type": "display_data"
    }
   ],
   "source": [
    "dff=df[(df['math score'] > 20) & (df['reading score'] > 20) & (df['writing score'] > 20)]\n",
    "for col in dff.select_dtypes(include=['float64','int64']).columns:\n",
    "    plt.figure(figsize=(5,3))\n",
    "    sns.boxplot(data=dff, y=col)\n",
    "    plt.title(f'Box Plot of {col}')\n",
    "    plt.tight_layout()\n",
    "    plt.show()"
   ]
  },
  {
   "cell_type": "code",
   "execution_count": 12,
   "id": "82c63a6b",
   "metadata": {
    "execution": {
     "iopub.execute_input": "2025-04-15T09:45:57.016375Z",
     "iopub.status.busy": "2025-04-15T09:45:57.016065Z",
     "iopub.status.idle": "2025-04-15T09:45:57.020579Z",
     "shell.execute_reply": "2025-04-15T09:45:57.019849Z"
    },
    "papermill": {
     "duration": 0.015892,
     "end_time": "2025-04-15T09:45:57.022072",
     "exception": false,
     "start_time": "2025-04-15T09:45:57.006180",
     "status": "completed"
    },
    "tags": []
   },
   "outputs": [],
   "source": [
    "df=dff.copy()"
   ]
  },
  {
   "cell_type": "code",
   "execution_count": 13,
   "id": "a50a6cd5",
   "metadata": {
    "execution": {
     "iopub.execute_input": "2025-04-15T09:45:57.043754Z",
     "iopub.status.busy": "2025-04-15T09:45:57.042840Z",
     "iopub.status.idle": "2025-04-15T09:45:57.053599Z",
     "shell.execute_reply": "2025-04-15T09:45:57.052747Z"
    },
    "papermill": {
     "duration": 0.02408,
     "end_time": "2025-04-15T09:45:57.055229",
     "exception": false,
     "start_time": "2025-04-15T09:45:57.031149",
     "status": "completed"
    },
    "tags": []
   },
   "outputs": [
    {
     "data": {
      "text/html": [
       "<div>\n",
       "<style scoped>\n",
       "    .dataframe tbody tr th:only-of-type {\n",
       "        vertical-align: middle;\n",
       "    }\n",
       "\n",
       "    .dataframe tbody tr th {\n",
       "        vertical-align: top;\n",
       "    }\n",
       "\n",
       "    .dataframe thead th {\n",
       "        text-align: right;\n",
       "    }\n",
       "</style>\n",
       "<table border=\"1\" class=\"dataframe\">\n",
       "  <thead>\n",
       "    <tr style=\"text-align: right;\">\n",
       "      <th></th>\n",
       "      <th>gender</th>\n",
       "      <th>race/ethnicity</th>\n",
       "      <th>parental level of education</th>\n",
       "      <th>lunch</th>\n",
       "      <th>test preparation course</th>\n",
       "      <th>math score</th>\n",
       "      <th>reading score</th>\n",
       "      <th>writing score</th>\n",
       "    </tr>\n",
       "  </thead>\n",
       "  <tbody>\n",
       "    <tr>\n",
       "      <th>0</th>\n",
       "      <td>female</td>\n",
       "      <td>group B</td>\n",
       "      <td>bachelor's degree</td>\n",
       "      <td>standard</td>\n",
       "      <td>none</td>\n",
       "      <td>72</td>\n",
       "      <td>72</td>\n",
       "      <td>74</td>\n",
       "    </tr>\n",
       "    <tr>\n",
       "      <th>1</th>\n",
       "      <td>female</td>\n",
       "      <td>group C</td>\n",
       "      <td>some college</td>\n",
       "      <td>standard</td>\n",
       "      <td>completed</td>\n",
       "      <td>69</td>\n",
       "      <td>90</td>\n",
       "      <td>88</td>\n",
       "    </tr>\n",
       "    <tr>\n",
       "      <th>2</th>\n",
       "      <td>female</td>\n",
       "      <td>group B</td>\n",
       "      <td>master's degree</td>\n",
       "      <td>standard</td>\n",
       "      <td>none</td>\n",
       "      <td>90</td>\n",
       "      <td>95</td>\n",
       "      <td>93</td>\n",
       "    </tr>\n",
       "    <tr>\n",
       "      <th>3</th>\n",
       "      <td>male</td>\n",
       "      <td>group A</td>\n",
       "      <td>associate's degree</td>\n",
       "      <td>free/reduced</td>\n",
       "      <td>none</td>\n",
       "      <td>47</td>\n",
       "      <td>57</td>\n",
       "      <td>44</td>\n",
       "    </tr>\n",
       "    <tr>\n",
       "      <th>4</th>\n",
       "      <td>male</td>\n",
       "      <td>group C</td>\n",
       "      <td>some college</td>\n",
       "      <td>standard</td>\n",
       "      <td>none</td>\n",
       "      <td>76</td>\n",
       "      <td>78</td>\n",
       "      <td>75</td>\n",
       "    </tr>\n",
       "  </tbody>\n",
       "</table>\n",
       "</div>"
      ],
      "text/plain": [
       "   gender race/ethnicity parental level of education         lunch  \\\n",
       "0  female        group B           bachelor's degree      standard   \n",
       "1  female        group C                some college      standard   \n",
       "2  female        group B             master's degree      standard   \n",
       "3    male        group A          associate's degree  free/reduced   \n",
       "4    male        group C                some college      standard   \n",
       "\n",
       "  test preparation course  math score  reading score  writing score  \n",
       "0                    none          72             72             74  \n",
       "1               completed          69             90             88  \n",
       "2                    none          90             95             93  \n",
       "3                    none          47             57             44  \n",
       "4                    none          76             78             75  "
      ]
     },
     "execution_count": 13,
     "metadata": {},
     "output_type": "execute_result"
    }
   ],
   "source": [
    "df.head()"
   ]
  },
  {
   "cell_type": "code",
   "execution_count": 14,
   "id": "9a1be722",
   "metadata": {
    "execution": {
     "iopub.execute_input": "2025-04-15T09:45:57.075543Z",
     "iopub.status.busy": "2025-04-15T09:45:57.075254Z",
     "iopub.status.idle": "2025-04-15T09:45:57.268608Z",
     "shell.execute_reply": "2025-04-15T09:45:57.267611Z"
    },
    "papermill": {
     "duration": 0.205612,
     "end_time": "2025-04-15T09:45:57.270431",
     "exception": false,
     "start_time": "2025-04-15T09:45:57.064819",
     "status": "completed"
    },
    "tags": []
   },
   "outputs": [],
   "source": [
    "from sklearn.preprocessing import LabelEncoder\n",
    "labelencoder=LabelEncoder()"
   ]
  },
  {
   "cell_type": "code",
   "execution_count": 15,
   "id": "cee30e34",
   "metadata": {
    "execution": {
     "iopub.execute_input": "2025-04-15T09:45:57.291636Z",
     "iopub.status.busy": "2025-04-15T09:45:57.291312Z",
     "iopub.status.idle": "2025-04-15T09:45:57.298092Z",
     "shell.execute_reply": "2025-04-15T09:45:57.297166Z"
    },
    "papermill": {
     "duration": 0.019235,
     "end_time": "2025-04-15T09:45:57.299715",
     "exception": false,
     "start_time": "2025-04-15T09:45:57.280480",
     "status": "completed"
    },
    "tags": []
   },
   "outputs": [
    {
     "data": {
      "text/plain": [
       "Index(['gender', 'race/ethnicity', 'parental level of education', 'lunch',\n",
       "       'test preparation course'],\n",
       "      dtype='object')"
      ]
     },
     "execution_count": 15,
     "metadata": {},
     "output_type": "execute_result"
    }
   ],
   "source": [
    "df.select_dtypes(include='object').columns"
   ]
  },
  {
   "cell_type": "code",
   "execution_count": 16,
   "id": "c3ed6ccd",
   "metadata": {
    "execution": {
     "iopub.execute_input": "2025-04-15T09:45:57.319655Z",
     "iopub.status.busy": "2025-04-15T09:45:57.319330Z",
     "iopub.status.idle": "2025-04-15T09:45:57.329358Z",
     "shell.execute_reply": "2025-04-15T09:45:57.328364Z"
    },
    "papermill": {
     "duration": 0.022067,
     "end_time": "2025-04-15T09:45:57.331169",
     "exception": false,
     "start_time": "2025-04-15T09:45:57.309102",
     "status": "completed"
    },
    "tags": []
   },
   "outputs": [],
   "source": [
    "for col in df.select_dtypes(include='object').columns:\n",
    "    df[col]=labelencoder.fit_transform(df[col])"
   ]
  },
  {
   "cell_type": "code",
   "execution_count": 17,
   "id": "df2ad258",
   "metadata": {
    "execution": {
     "iopub.execute_input": "2025-04-15T09:45:57.351453Z",
     "iopub.status.busy": "2025-04-15T09:45:57.351117Z",
     "iopub.status.idle": "2025-04-15T09:45:57.361376Z",
     "shell.execute_reply": "2025-04-15T09:45:57.360435Z"
    },
    "papermill": {
     "duration": 0.022005,
     "end_time": "2025-04-15T09:45:57.362875",
     "exception": false,
     "start_time": "2025-04-15T09:45:57.340870",
     "status": "completed"
    },
    "tags": []
   },
   "outputs": [
    {
     "data": {
      "text/html": [
       "<div>\n",
       "<style scoped>\n",
       "    .dataframe tbody tr th:only-of-type {\n",
       "        vertical-align: middle;\n",
       "    }\n",
       "\n",
       "    .dataframe tbody tr th {\n",
       "        vertical-align: top;\n",
       "    }\n",
       "\n",
       "    .dataframe thead th {\n",
       "        text-align: right;\n",
       "    }\n",
       "</style>\n",
       "<table border=\"1\" class=\"dataframe\">\n",
       "  <thead>\n",
       "    <tr style=\"text-align: right;\">\n",
       "      <th></th>\n",
       "      <th>gender</th>\n",
       "      <th>race/ethnicity</th>\n",
       "      <th>parental level of education</th>\n",
       "      <th>lunch</th>\n",
       "      <th>test preparation course</th>\n",
       "      <th>math score</th>\n",
       "      <th>reading score</th>\n",
       "      <th>writing score</th>\n",
       "    </tr>\n",
       "  </thead>\n",
       "  <tbody>\n",
       "    <tr>\n",
       "      <th>0</th>\n",
       "      <td>0</td>\n",
       "      <td>1</td>\n",
       "      <td>1</td>\n",
       "      <td>1</td>\n",
       "      <td>1</td>\n",
       "      <td>72</td>\n",
       "      <td>72</td>\n",
       "      <td>74</td>\n",
       "    </tr>\n",
       "    <tr>\n",
       "      <th>1</th>\n",
       "      <td>0</td>\n",
       "      <td>2</td>\n",
       "      <td>4</td>\n",
       "      <td>1</td>\n",
       "      <td>0</td>\n",
       "      <td>69</td>\n",
       "      <td>90</td>\n",
       "      <td>88</td>\n",
       "    </tr>\n",
       "    <tr>\n",
       "      <th>2</th>\n",
       "      <td>0</td>\n",
       "      <td>1</td>\n",
       "      <td>3</td>\n",
       "      <td>1</td>\n",
       "      <td>1</td>\n",
       "      <td>90</td>\n",
       "      <td>95</td>\n",
       "      <td>93</td>\n",
       "    </tr>\n",
       "    <tr>\n",
       "      <th>3</th>\n",
       "      <td>1</td>\n",
       "      <td>0</td>\n",
       "      <td>0</td>\n",
       "      <td>0</td>\n",
       "      <td>1</td>\n",
       "      <td>47</td>\n",
       "      <td>57</td>\n",
       "      <td>44</td>\n",
       "    </tr>\n",
       "    <tr>\n",
       "      <th>4</th>\n",
       "      <td>1</td>\n",
       "      <td>2</td>\n",
       "      <td>4</td>\n",
       "      <td>1</td>\n",
       "      <td>1</td>\n",
       "      <td>76</td>\n",
       "      <td>78</td>\n",
       "      <td>75</td>\n",
       "    </tr>\n",
       "  </tbody>\n",
       "</table>\n",
       "</div>"
      ],
      "text/plain": [
       "   gender  race/ethnicity  parental level of education  lunch  \\\n",
       "0       0               1                            1      1   \n",
       "1       0               2                            4      1   \n",
       "2       0               1                            3      1   \n",
       "3       1               0                            0      0   \n",
       "4       1               2                            4      1   \n",
       "\n",
       "   test preparation course  math score  reading score  writing score  \n",
       "0                        1          72             72             74  \n",
       "1                        0          69             90             88  \n",
       "2                        1          90             95             93  \n",
       "3                        1          47             57             44  \n",
       "4                        1          76             78             75  "
      ]
     },
     "execution_count": 17,
     "metadata": {},
     "output_type": "execute_result"
    }
   ],
   "source": [
    "df.head()"
   ]
  },
  {
   "cell_type": "code",
   "execution_count": 18,
   "id": "0458c6ca",
   "metadata": {
    "execution": {
     "iopub.execute_input": "2025-04-15T09:45:57.383502Z",
     "iopub.status.busy": "2025-04-15T09:45:57.383183Z",
     "iopub.status.idle": "2025-04-15T09:45:57.389223Z",
     "shell.execute_reply": "2025-04-15T09:45:57.388307Z"
    },
    "papermill": {
     "duration": 0.018271,
     "end_time": "2025-04-15T09:45:57.390789",
     "exception": false,
     "start_time": "2025-04-15T09:45:57.372518",
     "status": "completed"
    },
    "tags": []
   },
   "outputs": [
    {
     "data": {
      "text/plain": [
       "Index(['gender', 'race/ethnicity', 'parental level of education', 'lunch',\n",
       "       'test preparation course', 'math score', 'reading score',\n",
       "       'writing score'],\n",
       "      dtype='object')"
      ]
     },
     "execution_count": 18,
     "metadata": {},
     "output_type": "execute_result"
    }
   ],
   "source": [
    "df.columns"
   ]
  },
  {
   "cell_type": "code",
   "execution_count": 19,
   "id": "0ffa98fa",
   "metadata": {
    "execution": {
     "iopub.execute_input": "2025-04-15T09:45:57.412683Z",
     "iopub.status.busy": "2025-04-15T09:45:57.412378Z",
     "iopub.status.idle": "2025-04-15T09:45:57.419418Z",
     "shell.execute_reply": "2025-04-15T09:45:57.418546Z"
    },
    "papermill": {
     "duration": 0.019227,
     "end_time": "2025-04-15T09:45:57.420910",
     "exception": false,
     "start_time": "2025-04-15T09:45:57.401683",
     "status": "completed"
    },
    "tags": []
   },
   "outputs": [],
   "source": [
    "df['avg_score'] = df[['math score', 'reading score', 'writing score']].mean(axis=1)"
   ]
  },
  {
   "cell_type": "code",
   "execution_count": 20,
   "id": "f86249b3",
   "metadata": {
    "execution": {
     "iopub.execute_input": "2025-04-15T09:45:57.441439Z",
     "iopub.status.busy": "2025-04-15T09:45:57.441159Z",
     "iopub.status.idle": "2025-04-15T09:45:57.451689Z",
     "shell.execute_reply": "2025-04-15T09:45:57.450727Z"
    },
    "papermill": {
     "duration": 0.022708,
     "end_time": "2025-04-15T09:45:57.453296",
     "exception": false,
     "start_time": "2025-04-15T09:45:57.430588",
     "status": "completed"
    },
    "tags": []
   },
   "outputs": [
    {
     "data": {
      "text/html": [
       "<div>\n",
       "<style scoped>\n",
       "    .dataframe tbody tr th:only-of-type {\n",
       "        vertical-align: middle;\n",
       "    }\n",
       "\n",
       "    .dataframe tbody tr th {\n",
       "        vertical-align: top;\n",
       "    }\n",
       "\n",
       "    .dataframe thead th {\n",
       "        text-align: right;\n",
       "    }\n",
       "</style>\n",
       "<table border=\"1\" class=\"dataframe\">\n",
       "  <thead>\n",
       "    <tr style=\"text-align: right;\">\n",
       "      <th></th>\n",
       "      <th>gender</th>\n",
       "      <th>race/ethnicity</th>\n",
       "      <th>parental level of education</th>\n",
       "      <th>lunch</th>\n",
       "      <th>test preparation course</th>\n",
       "      <th>math score</th>\n",
       "      <th>reading score</th>\n",
       "      <th>writing score</th>\n",
       "      <th>avg_score</th>\n",
       "    </tr>\n",
       "  </thead>\n",
       "  <tbody>\n",
       "    <tr>\n",
       "      <th>0</th>\n",
       "      <td>0</td>\n",
       "      <td>1</td>\n",
       "      <td>1</td>\n",
       "      <td>1</td>\n",
       "      <td>1</td>\n",
       "      <td>72</td>\n",
       "      <td>72</td>\n",
       "      <td>74</td>\n",
       "      <td>72.666667</td>\n",
       "    </tr>\n",
       "    <tr>\n",
       "      <th>1</th>\n",
       "      <td>0</td>\n",
       "      <td>2</td>\n",
       "      <td>4</td>\n",
       "      <td>1</td>\n",
       "      <td>0</td>\n",
       "      <td>69</td>\n",
       "      <td>90</td>\n",
       "      <td>88</td>\n",
       "      <td>82.333333</td>\n",
       "    </tr>\n",
       "    <tr>\n",
       "      <th>2</th>\n",
       "      <td>0</td>\n",
       "      <td>1</td>\n",
       "      <td>3</td>\n",
       "      <td>1</td>\n",
       "      <td>1</td>\n",
       "      <td>90</td>\n",
       "      <td>95</td>\n",
       "      <td>93</td>\n",
       "      <td>92.666667</td>\n",
       "    </tr>\n",
       "    <tr>\n",
       "      <th>3</th>\n",
       "      <td>1</td>\n",
       "      <td>0</td>\n",
       "      <td>0</td>\n",
       "      <td>0</td>\n",
       "      <td>1</td>\n",
       "      <td>47</td>\n",
       "      <td>57</td>\n",
       "      <td>44</td>\n",
       "      <td>49.333333</td>\n",
       "    </tr>\n",
       "    <tr>\n",
       "      <th>4</th>\n",
       "      <td>1</td>\n",
       "      <td>2</td>\n",
       "      <td>4</td>\n",
       "      <td>1</td>\n",
       "      <td>1</td>\n",
       "      <td>76</td>\n",
       "      <td>78</td>\n",
       "      <td>75</td>\n",
       "      <td>76.333333</td>\n",
       "    </tr>\n",
       "  </tbody>\n",
       "</table>\n",
       "</div>"
      ],
      "text/plain": [
       "   gender  race/ethnicity  parental level of education  lunch  \\\n",
       "0       0               1                            1      1   \n",
       "1       0               2                            4      1   \n",
       "2       0               1                            3      1   \n",
       "3       1               0                            0      0   \n",
       "4       1               2                            4      1   \n",
       "\n",
       "   test preparation course  math score  reading score  writing score  \\\n",
       "0                        1          72             72             74   \n",
       "1                        0          69             90             88   \n",
       "2                        1          90             95             93   \n",
       "3                        1          47             57             44   \n",
       "4                        1          76             78             75   \n",
       "\n",
       "   avg_score  \n",
       "0  72.666667  \n",
       "1  82.333333  \n",
       "2  92.666667  \n",
       "3  49.333333  \n",
       "4  76.333333  "
      ]
     },
     "execution_count": 20,
     "metadata": {},
     "output_type": "execute_result"
    }
   ],
   "source": [
    "df.head()"
   ]
  },
  {
   "cell_type": "code",
   "execution_count": 21,
   "id": "4c6f81b7",
   "metadata": {
    "execution": {
     "iopub.execute_input": "2025-04-15T09:45:57.474785Z",
     "iopub.status.busy": "2025-04-15T09:45:57.474493Z",
     "iopub.status.idle": "2025-04-15T09:45:57.480266Z",
     "shell.execute_reply": "2025-04-15T09:45:57.479345Z"
    },
    "papermill": {
     "duration": 0.018577,
     "end_time": "2025-04-15T09:45:57.481766",
     "exception": false,
     "start_time": "2025-04-15T09:45:57.463189",
     "status": "completed"
    },
    "tags": []
   },
   "outputs": [],
   "source": [
    "df=df.drop(columns=['math score', 'reading score','writing score'],axis=1)"
   ]
  },
  {
   "cell_type": "code",
   "execution_count": 22,
   "id": "5ba43314",
   "metadata": {
    "execution": {
     "iopub.execute_input": "2025-04-15T09:45:57.502148Z",
     "iopub.status.busy": "2025-04-15T09:45:57.501784Z",
     "iopub.status.idle": "2025-04-15T09:45:57.511129Z",
     "shell.execute_reply": "2025-04-15T09:45:57.510112Z"
    },
    "papermill": {
     "duration": 0.021181,
     "end_time": "2025-04-15T09:45:57.512575",
     "exception": false,
     "start_time": "2025-04-15T09:45:57.491394",
     "status": "completed"
    },
    "tags": []
   },
   "outputs": [
    {
     "data": {
      "text/html": [
       "<div>\n",
       "<style scoped>\n",
       "    .dataframe tbody tr th:only-of-type {\n",
       "        vertical-align: middle;\n",
       "    }\n",
       "\n",
       "    .dataframe tbody tr th {\n",
       "        vertical-align: top;\n",
       "    }\n",
       "\n",
       "    .dataframe thead th {\n",
       "        text-align: right;\n",
       "    }\n",
       "</style>\n",
       "<table border=\"1\" class=\"dataframe\">\n",
       "  <thead>\n",
       "    <tr style=\"text-align: right;\">\n",
       "      <th></th>\n",
       "      <th>gender</th>\n",
       "      <th>race/ethnicity</th>\n",
       "      <th>parental level of education</th>\n",
       "      <th>lunch</th>\n",
       "      <th>test preparation course</th>\n",
       "      <th>avg_score</th>\n",
       "    </tr>\n",
       "  </thead>\n",
       "  <tbody>\n",
       "    <tr>\n",
       "      <th>0</th>\n",
       "      <td>0</td>\n",
       "      <td>1</td>\n",
       "      <td>1</td>\n",
       "      <td>1</td>\n",
       "      <td>1</td>\n",
       "      <td>72.666667</td>\n",
       "    </tr>\n",
       "    <tr>\n",
       "      <th>1</th>\n",
       "      <td>0</td>\n",
       "      <td>2</td>\n",
       "      <td>4</td>\n",
       "      <td>1</td>\n",
       "      <td>0</td>\n",
       "      <td>82.333333</td>\n",
       "    </tr>\n",
       "    <tr>\n",
       "      <th>2</th>\n",
       "      <td>0</td>\n",
       "      <td>1</td>\n",
       "      <td>3</td>\n",
       "      <td>1</td>\n",
       "      <td>1</td>\n",
       "      <td>92.666667</td>\n",
       "    </tr>\n",
       "    <tr>\n",
       "      <th>3</th>\n",
       "      <td>1</td>\n",
       "      <td>0</td>\n",
       "      <td>0</td>\n",
       "      <td>0</td>\n",
       "      <td>1</td>\n",
       "      <td>49.333333</td>\n",
       "    </tr>\n",
       "    <tr>\n",
       "      <th>4</th>\n",
       "      <td>1</td>\n",
       "      <td>2</td>\n",
       "      <td>4</td>\n",
       "      <td>1</td>\n",
       "      <td>1</td>\n",
       "      <td>76.333333</td>\n",
       "    </tr>\n",
       "  </tbody>\n",
       "</table>\n",
       "</div>"
      ],
      "text/plain": [
       "   gender  race/ethnicity  parental level of education  lunch  \\\n",
       "0       0               1                            1      1   \n",
       "1       0               2                            4      1   \n",
       "2       0               1                            3      1   \n",
       "3       1               0                            0      0   \n",
       "4       1               2                            4      1   \n",
       "\n",
       "   test preparation course  avg_score  \n",
       "0                        1  72.666667  \n",
       "1                        0  82.333333  \n",
       "2                        1  92.666667  \n",
       "3                        1  49.333333  \n",
       "4                        1  76.333333  "
      ]
     },
     "execution_count": 22,
     "metadata": {},
     "output_type": "execute_result"
    }
   ],
   "source": [
    "df.head()"
   ]
  },
  {
   "cell_type": "markdown",
   "id": "6e261889",
   "metadata": {
    "papermill": {
     "duration": 0.009607,
     "end_time": "2025-04-15T09:45:57.532752",
     "exception": false,
     "start_time": "2025-04-15T09:45:57.523145",
     "status": "completed"
    },
    "tags": []
   },
   "source": [
    "<h3>Now You Can Performed Any Machine Learninh Model On Above Cleaned Dataset</h3>"
   ]
  },
  {
   "cell_type": "code",
   "execution_count": null,
   "id": "61add706",
   "metadata": {
    "papermill": {
     "duration": 0.009962,
     "end_time": "2025-04-15T09:45:57.552597",
     "exception": false,
     "start_time": "2025-04-15T09:45:57.542635",
     "status": "completed"
    },
    "tags": []
   },
   "outputs": [],
   "source": []
  }
 ],
 "metadata": {
  "kaggle": {
   "accelerator": "none",
   "dataSources": [
    {
     "datasetId": 74977,
     "sourceId": 169835,
     "sourceType": "datasetVersion"
    }
   ],
   "dockerImageVersionId": 31012,
   "isGpuEnabled": false,
   "isInternetEnabled": true,
   "language": "python",
   "sourceType": "notebook"
  },
  "kernelspec": {
   "display_name": "Python 3",
   "language": "python",
   "name": "python3"
  },
  "language_info": {
   "codemirror_mode": {
    "name": "ipython",
    "version": 3
   },
   "file_extension": ".py",
   "mimetype": "text/x-python",
   "name": "python",
   "nbconvert_exporter": "python",
   "pygments_lexer": "ipython3",
   "version": "3.11.11"
  },
  "papermill": {
   "default_parameters": {},
   "duration": 12.449211,
   "end_time": "2025-04-15T09:45:58.282936",
   "environment_variables": {},
   "exception": null,
   "input_path": "__notebook__.ipynb",
   "output_path": "__notebook__.ipynb",
   "parameters": {},
   "start_time": "2025-04-15T09:45:45.833725",
   "version": "2.6.0"
  }
 },
 "nbformat": 4,
 "nbformat_minor": 5
}
